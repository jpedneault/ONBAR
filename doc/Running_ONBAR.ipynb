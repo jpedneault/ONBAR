{
 "cells": [
  {
   "cell_type": "markdown",
   "metadata": {},
   "source": [
    "# Getting started with ONBAR"
   ]
  },
  {
   "cell_type": "markdown",
   "metadata": {},
   "source": [
    "The Optimisation Number of Bins in Aluminium Recycling (ONBAR) framework is an optimisation model focussing on the sorting of different aluminium products to minimise the environemtnal impacts of the overall industry. \n",
    "This code has been used for the calculation of the article in revision:\n",
    "\n",
    "Pedneault, J., Majeau-Bettez, G., Margni, M. (2022). How much sorting is required for a circular low carbon aluminium economy?"
   ]
  },
  {
   "cell_type": "markdown",
   "metadata": {},
   "source": [
    "# Get Data"
   ]
  },
  {
   "cell_type": "markdown",
   "metadata": {},
   "source": [
    "ONBAR data are grouped into an excel file (SI1_input_data.xlsx) also available in the doc folder. To load the data ONBAR, you'll have to download the file and make sure that it is in the same folder as ONBAR.ipynb."
   ]
  },
  {
   "cell_type": "markdown",
   "metadata": {},
   "source": [
    "# Get ONBAR class"
   ]
  },
  {
   "cell_type": "markdown",
   "metadata": {},
   "source": [
    "To get the ONBAR class, download it from the src folder: ONBAR.py.\n",
    "Make sure to remember the path of the file. "
   ]
  },
  {
   "cell_type": "markdown",
   "metadata": {},
   "source": [
    "# Package requirements"
   ]
  },
  {
   "cell_type": "markdown",
   "metadata": {},
   "source": [
    "Packages needed to run the code are the following:\n",
    "- numpy\n",
    "- pandas\n",
    "- matplotlib\n",
    "- pylab\n",
    "- pickle\n",
    "- pyomo"
   ]
  },
  {
   "cell_type": "markdown",
   "metadata": {},
   "source": [
    "# Run ONBAR"
   ]
  },
  {
   "cell_type": "markdown",
   "metadata": {},
   "source": [
    "Before running the ONBAR.ipynb notebook, make sure you have the package installed. Also, you'll need change the path of the ONBAR.py on line 16 of the import cell (the first cell). Make sure \n",
    "\n",
    "Run the import cell and the import data cell.\n",
    "Then you can solve different cases. Solving can takes several hours. Once solved, the object including the results are stock in a pickle format so you can easily get it back with waiting the long solving time. \n",
    "\n",
    "The results sections generates different figures of the article."
   ]
  },
  {
   "cell_type": "markdown",
   "metadata": {},
   "source": [
    "# Note"
   ]
  }
 ],
 "metadata": {
  "hide_input": false,
  "kernelspec": {
   "display_name": "Python 3",
   "language": "python",
   "name": "python3"
  },
  "language_info": {
   "codemirror_mode": {
    "name": "ipython",
    "version": 3
   },
   "file_extension": ".py",
   "mimetype": "text/x-python",
   "name": "python",
   "nbconvert_exporter": "python",
   "pygments_lexer": "ipython3",
   "version": "3.6.5"
  }
 },
 "nbformat": 4,
 "nbformat_minor": 4
}

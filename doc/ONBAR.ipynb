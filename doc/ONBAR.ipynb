{
 "cells": [
  {
   "cell_type": "code",
   "execution_count": null,
   "metadata": {},
   "outputs": [],
   "source": [
    "# Import\n",
    "import sys, os\n",
    "import numpy as np\n",
    "import pandas as pd\n",
    "import matplotlib.pyplot as plt\n",
    "import plotly.graph_objects as go\n",
    "from matplotlib.lines import Line2D\n",
    "import pylab\n",
    "import pickle\n",
    "import pdb\n",
    "import time\n",
    "\n",
    "import pyomo.environ as po\n",
    "from pyomo.environ import *\n",
    "\n",
    "sys.path.append(r'path_to_ONBAR.py')\n",
    "from ONBAR import Onbar"
   ]
  },
  {
   "cell_type": "markdown",
   "metadata": {},
   "source": [
    "# Import data"
   ]
  },
  {
   "cell_type": "code",
   "execution_count": null,
   "metadata": {},
   "outputs": [],
   "source": [
    "#Import \n",
    "data = 'SI1_inupt_data.xlsx' #The excel sheet must be in the same file as this notebook\n",
    "inflow = pd.read_excel(data, sheet_name='inflow', index_col=[0,1,2,3], header=[0])\n",
    "outflow = pd.read_excel(data, sheet_name='outflow', index_col=[0,1,2,3,4], header=[0])\n",
    "collection_rate = pd.read_excel(data, sheet_name='collection_rate', index_col=[0,1,2], squeeze=True)\n",
    "theta = pd.read_excel(data, sheet_name='theta', index_col=[0], header=[0])\n",
    "impact_data = pd.read_excel(data, sheet_name='impact', index_col=[0,1], header=[0]).drop('reference', axis=1)\n",
    "impact_mid = pd.read_excel(data, sheet_name='impact_mid_point', index_col=[0], header=[0]).drop('Unit', axis=1)"
   ]
  },
  {
   "cell_type": "markdown",
   "metadata": {},
   "source": [
    "# Solve"
   ]
  },
  {
   "cell_type": "markdown",
   "metadata": {},
   "source": [
    "## Baseline - CC - SSP2-nd"
   ]
  },
  {
   "cell_type": "code",
   "execution_count": null,
   "metadata": {},
   "outputs": [],
   "source": [
    "# Define parameters of the case: SSP2 + no dismantling\n",
    "ssp = 'SSP2'\n",
    "region = 'GLO'\n",
    "b_max = 8\n",
    "impact = 'CC'\n",
    "dismantling_condition = 'none'\n",
    "\n",
    "# Create the object and solve it. The solving migth take several hours\n",
    "SSP2_GLO_CC_none = Onbar(inflow, outflow, collection_rate, theta, impact_data, ssp, region, b_max, impact, dismantling_condition)\n",
    "SSP2_GLO_CC_none.solve()\n",
    "#The solved object is saved in a picke format\n",
    "pickle.dump(SSP2_GLO_CC_none, file = open(\"SSP2_GLO_CC_none\", \"wb\"))"
   ]
  },
  {
   "cell_type": "markdown",
   "metadata": {},
   "source": [
    "## Resource - SSP2-nd"
   ]
  },
  {
   "cell_type": "code",
   "execution_count": null,
   "metadata": {},
   "outputs": [],
   "source": [
    "# Define parameters of the case: SSP2 + no dismantling - Resource indicator\n",
    "ssp = 'SSP2'\n",
    "region = 'GLO'\n",
    "b_max = 8\n",
    "impact = 'RE'\n",
    "dismantling_condition = 'none'\n",
    "\n",
    "# Create the object and solve it. The solving migth take several hours\n",
    "SSP2_GLO_RE_none = Onbar(inflow, outflow, collection_rate, theta, impact_data, ssp, region, b_max, impact, dismantling_condition)\n",
    "SSP2_GLO_RE_none.solve()\n",
    "#The solved object is saved in a picke format\n",
    "pickle.dump(SSP2_GLO_RE_none, file = open(\"SSP2_GLO_RE_none\", \"wb\"))"
   ]
  },
  {
   "cell_type": "markdown",
   "metadata": {},
   "source": [
    "## Full dismantling - SSP2-fd"
   ]
  },
  {
   "cell_type": "code",
   "execution_count": null,
   "metadata": {
    "scrolled": false
   },
   "outputs": [],
   "source": [
    "# Define parameters of the case: SSP2 + full dismantling\n",
    "ssp = 'SSP2'\n",
    "region = 'GLO'\n",
    "b_max = 8\n",
    "impact = 'CC'\n",
    "dismantling_condition = 'full'\n",
    "\n",
    "# Create the object and solve it. The solving migth take several hours\n",
    "SSP2_GLO_CC_full = Onbar(inflow, outflow, collection_rate, theta, impact_data, ssp, region, b_max, impact, dismantling_condition)\n",
    "SSP2_GLO_CC_full.solve()\n",
    "#The solved object is saved in a picke format\n",
    "pickle.dump(SSP2_GLO_CC_full, file = open(\"SSP2_GLO_CC_full\", \"wb\"))"
   ]
  },
  {
   "cell_type": "markdown",
   "metadata": {},
   "source": [
    "## Collection rate - SSP2-nd-100cr"
   ]
  },
  {
   "cell_type": "code",
   "execution_count": null,
   "metadata": {
    "scrolled": false
   },
   "outputs": [],
   "source": [
    "# Define parameters of the case: SSP2 + no dismantling + 100% collection rate\n",
    "ssp = 'SSP2'\n",
    "region = 'GLO'\n",
    "b_max = 8\n",
    "impact = 'CC'\n",
    "dismantling_condition = 'none'\n",
    "collection_rate_100 = collection_rate/collection_rate\n",
    "\n",
    "SSP2_GLO_CC_none_100cr = Onbar(inflow, outflow, collection_rate_100, theta, impact_data, ssp, region, b_max, impact, dismantling_condition)\n",
    "SSP2_GLO_CC_none_100cr.solve()\n",
    "#The solved object is saved in a picke format\n",
    "pickle.dump(SSP2_GLO_CC_none_100cr, file = open(\"SSP2_GLO_CC_none_100cr\", \"wb\"))"
   ]
  },
  {
   "cell_type": "markdown",
   "metadata": {},
   "source": [
    "## Collection rate - SSP2-fd-100cr"
   ]
  },
  {
   "cell_type": "code",
   "execution_count": null,
   "metadata": {
    "scrolled": false
   },
   "outputs": [],
   "source": [
    "#Collection rate to 100 + Full dismantling + 100% collection rate\n",
    "ssp = 'SSP2'\n",
    "region = 'GLO'\n",
    "b_max = 8\n",
    "impact = 'CC'\n",
    "dismantling_condition = 'full'\n",
    "collection_rate_100 = collection_rate/collection_rate\n",
    "\n",
    "# Create the object and solve it. The solving migth take several hours\n",
    "SSP2_GLO_CC_full_100cr = Onbar(inflow, outflow, collection_rate_100, theta, impact_data, ssp, region, b_max, impact, dismantling_condition)\n",
    "SSP2_GLO_CC_full_100cr.solve()\n",
    "#The solved object is saved in a picke format\n",
    "pickle.dump(SSP2_GLO_CC_full_100cr, file = open(\"SSP2_GLO_CC_full_100cr\", \"wb\"))"
   ]
  },
  {
   "cell_type": "markdown",
   "metadata": {},
   "source": [
    "## Sensitivity analysis - Different SSP"
   ]
  },
  {
   "cell_type": "markdown",
   "metadata": {},
   "source": [
    "### SSP1-nd"
   ]
  },
  {
   "cell_type": "code",
   "execution_count": null,
   "metadata": {
    "scrolled": false
   },
   "outputs": [],
   "source": [
    "# Define parameters of the case: SSP1 + no dismantling\n",
    "ssp = 'SSP1'\n",
    "region = 'GLO'\n",
    "b_max = 8\n",
    "impact = 'CC'\n",
    "dismantling_condition = 'none'\n",
    "\n",
    "# Create the object and solve it. The solving migth take several hours\n",
    "SSP1_GLO_CC_none = Onbar(inflow, outflow, collection_rate, theta, impact_data, ssp, region, b_max, impact, dismantling_condition)\n",
    "SSP1_GLO_CC_none.solve()\n",
    "#The solved object is saved in a picke format\n",
    "pickle.dump(SSP1_GLO_CC_none, file = open(\"SSP1_GLO_CC_none\", \"wb\"))"
   ]
  },
  {
   "cell_type": "markdown",
   "metadata": {},
   "source": [
    "### SSP3-nd"
   ]
  },
  {
   "cell_type": "code",
   "execution_count": null,
   "metadata": {
    "scrolled": true
   },
   "outputs": [],
   "source": [
    "# Define parameters of the case: SSP3 + no dismantling\n",
    "ssp = 'SSP3'\n",
    "region = 'GLO'\n",
    "b_max = 8\n",
    "impact = 'CC'\n",
    "dismantling_condition = 'none'\n",
    "\n",
    "# Create the object and solve it. The solving migth take several hours\n",
    "SSP3_GLO_CC_none = Onbar(inflow, outflow, collection_rate, theta, impact_data, ssp, region, b_max, impact, dismantling_condition)\n",
    "SSP3_GLO_CC_none.solve()\n",
    "#The solved object is saved in a picke format\n",
    "pickle.dump(SSP3_GLO_CC_none, file = open(\"SSP3_GLO_CC_none\", \"wb\"))"
   ]
  },
  {
   "cell_type": "markdown",
   "metadata": {},
   "source": [
    "### SSP4-nd"
   ]
  },
  {
   "cell_type": "code",
   "execution_count": null,
   "metadata": {
    "scrolled": true
   },
   "outputs": [],
   "source": [
    "# Define parameters of the case: SSP4 + no dismantling\n",
    "ssp = 'SSP4'\n",
    "region = 'GLO'\n",
    "b_max = 8\n",
    "impact = 'CC'\n",
    "dismantling_condition = 'none'\n",
    "\n",
    "# Create the object and solve it. The solving migth take several hours\n",
    "SSP4_GLO_CC_none = Onbar(inflow, outflow, collection_rate, theta, impact_data, ssp, region, b_max, impact, dismantling_condition)\n",
    "SSP4_GLO_CC_none.solve()\n",
    "#The solved object is saved in a picke format\n",
    "pickle.dump(SSP4_GLO_CC_none, file = open(\"SSP4_GLO_CC_none\", \"wb\"))"
   ]
  },
  {
   "cell_type": "markdown",
   "metadata": {},
   "source": [
    "### SSP5-nd"
   ]
  },
  {
   "cell_type": "code",
   "execution_count": null,
   "metadata": {},
   "outputs": [],
   "source": [
    "# Define parameters of the case: SSP5 + no dismantling\n",
    "ssp = 'SSP5'\n",
    "region = 'GLO'\n",
    "b_max = 8\n",
    "impact = 'CC'\n",
    "dismantling_condition = 'none'\n",
    "\n",
    "# Create the object and solve it. The solving migth take several hours\n",
    "SSP5_GLO_CC_none = Onbar(inflow, outflow, collection_rate, theta, impact_data, ssp, region, b_max, impact, dismantling_condition)\n",
    "SSP5_GLO_CC_none.solve()\n",
    "#The solved object is saved in a picke format\n",
    "pickle.dump(SSP5_GLO_CC_none, file = open(\"SSP5_GLO_CC_none\", \"wb\"))"
   ]
  },
  {
   "cell_type": "markdown",
   "metadata": {},
   "source": [
    "# Load results"
   ]
  },
  {
   "cell_type": "code",
   "execution_count": null,
   "metadata": {},
   "outputs": [],
   "source": [
    "#If the previous cases have beed previously solved and saved, \n",
    "# this cell load the different solved cases to avoid calculation time.\n",
    "SSP2_GLO_CC_none = pickle.load(open(\"SSP2_GLO_CC_none\", \"rb\"))\n",
    "SSP2_GLO_RE_none = pickle.load(open(\"SSP2_GLO_RE_none\", \"rb\"))\n",
    "\n",
    "SSP2_GLO_CC_full = pickle.load(open(\"SSP2_GLO_CC_full\", \"rb\")) \n",
    "SSP2_GLO_CC_none_100cr = pickle.load(open(\"SSP2_GLO_CC_none_100cr\", \"rb\")) \n",
    "SSP2_GLO_CC_full_100cr = pickle.load(open(\"SSP2_GLO_CC_full_100cr\", \"rb\")) \n",
    "\n",
    "SSP1_GLO_CC_none = pickle.load(open(\"SSP1_GLO_CC_none\", \"rb\"))\n",
    "SSP3_GLO_CC_none = pickle.load(open(\"SSP3_GLO_CC_none\", \"rb\"))\n",
    "SSP4_GLO_CC_none = pickle.load(open(\"SSP4_GLO_CC_none\", \"rb\"))\n",
    "SSP5_GLO_CC_none = pickle.load(open(\"SSP5_GLO_CC_none\", \"rb\"))"
   ]
  },
  {
   "cell_type": "markdown",
   "metadata": {},
   "source": [
    "# --- RESULTS ---"
   ]
  },
  {
   "cell_type": "markdown",
   "metadata": {},
   "source": [
    "# Figure 2 - Total impact - Baseline"
   ]
  },
  {
   "cell_type": "code",
   "execution_count": null,
   "metadata": {
    "scrolled": true
   },
   "outputs": [],
   "source": [
    "SSP2_GLO_CC_none.plot_impacts()"
   ]
  },
  {
   "cell_type": "code",
   "execution_count": null,
   "metadata": {
    "scrolled": true
   },
   "outputs": [],
   "source": [
    "#Values impact\n",
    "values_fig2_imp = pd.concat([SSP2_GLO_CC_none.imp_all.sum(level=0), SSP2_GLO_CC_none.imp_id.sum(level=0)], axis=0)\n",
    "values_fig2_imp"
   ]
  },
  {
   "cell_type": "code",
   "execution_count": null,
   "metadata": {},
   "outputs": [],
   "source": [
    "#Values demand\n",
    "values_fig2_demand = pd.DataFrame(SSP2_GLO_CC_none.inflow.sum(), columns=['Demand']).T\n",
    "values_fig2_demand"
   ]
  },
  {
   "cell_type": "markdown",
   "metadata": {},
   "source": [
    "# Figure 3(a) - Primary production"
   ]
  },
  {
   "cell_type": "code",
   "execution_count": null,
   "metadata": {
    "scrolled": false
   },
   "outputs": [],
   "source": [
    "SSP2_GLO_CC_none.plot_primary_demand()"
   ]
  },
  {
   "cell_type": "code",
   "execution_count": null,
   "metadata": {
    "scrolled": true
   },
   "outputs": [],
   "source": [
    "#Values primary consumption\n",
    "values_fig3a_prod = pd.concat([SSP2_GLO_CC_none.f_tp_all.sum(level=0), pd.DataFrame(SSP2_GLO_CC_none.inflow.sum(), columns=['Demand']).T, pd.DataFrame(SSP2_GLO_CC_none.f_tp_id.sum(), columns=['Ideal sorting']).T], axis=0)\n",
    "values_fig3a_prod"
   ]
  },
  {
   "cell_type": "markdown",
   "metadata": {},
   "source": [
    "# Figure 3 (b) - Unused scrap generation"
   ]
  },
  {
   "cell_type": "code",
   "execution_count": null,
   "metadata": {
    "scrolled": false
   },
   "outputs": [],
   "source": [
    "SSP2_GLO_CC_none.plot_scrap_gen()"
   ]
  },
  {
   "cell_type": "code",
   "execution_count": null,
   "metadata": {
    "scrolled": false
   },
   "outputs": [],
   "source": [
    "#Values impact\n",
    "values_fig3b_scrap = pd.concat([SSP2_GLO_CC_none.f_m_all.loc(axis=0)[:, 'Scrap', :].sum(level=0), \n",
    "                                pd.DataFrame(SSP2_GLO_CC_none.f_scrap_id.sum(), columns=['Ideal']).T,\n",
    "                               pd.DataFrame(SSP2_GLO_CC_none.f_tr.sum(), columns=['Flow to recycle']).T], axis=0)\n",
    "values_fig3b_scrap"
   ]
  },
  {
   "cell_type": "markdown",
   "metadata": {},
   "source": [
    "# Figure 4 - Impact - Full dismantling"
   ]
  },
  {
   "cell_type": "code",
   "execution_count": null,
   "metadata": {},
   "outputs": [],
   "source": [
    "def plot_impacts_full(self, no_dismantling):\n",
    "    time = list(self.f_tp_all.columns)\n",
    "    demand = self.f_d.sum()[time]\n",
    "\n",
    "    impacts_total = self.imp_all.sum(level=0)\n",
    "    impacts_ideal = self.imp_id.sum()\n",
    "    impacts_none = no_dismantling.imp_all.sum(level=0).loc(axis=0)[4]\n",
    "\n",
    "    \n",
    "    colors = ['#a50026', '#d73027', '#f46d43', '#fdae61', '#abd9e9', '#74add1', '#4575b4','#313695']\n",
    "\n",
    "    fig, (ax1) = plt.subplots(1)\n",
    "    fig.set_figwidth(8)\n",
    "    fig.set_figheight(6)\n",
    "\n",
    "    x = impacts_total.columns\n",
    "    for b in impacts_total.index:\n",
    "        y = impacts_total.loc[b].values\n",
    "        position = list(impacts_total.index).index(b)\n",
    "        ax1.plot(x, y, ms=4, lw=2, color=colors[position])\n",
    "    y = impacts_ideal\n",
    "    ax1.plot(x, y, ms=6, lw=2, c='k', marker='d')\n",
    "\n",
    "    #Legend\n",
    "    legend_bins = plt.legend(list(impacts_total.index), title='Number of bins', loc=((1.15,0.2)))\n",
    "    plt.gca().add_artist(legend_bins)\n",
    "    ax1.xaxis.set_minor_locator(plt.MultipleLocator(5))\n",
    "    \n",
    "    # Legends\n",
    "    ax2 = ax1\n",
    "    custom_line_ideal = [Line2D([0], [0], ms=4, lw=2, c='k', marker='d')]\n",
    "    leg_ideal_baseline = plt.legend(custom_line_ideal, ['Ideal sorting case'], loc=3)\n",
    "    ax2.add_artist(leg_ideal_baseline);\n",
    "\n",
    "    plt.xlabel('Year')\n",
    "    y_label = r'Climate change - [Mt $CO_2$ eq /y]'\n",
    "        \n",
    "    # Plot ideal impact - None - 4 bins\n",
    "    ax1.plot(time, impacts_none, marker='.', lw=0, c='grey', ms=8)\n",
    "    ax1.set_ylim(ymin=0)\n",
    "\n",
    "    # Legends  - None - 4 bins\n",
    "    custom_line_ideal = [Line2D([0], [0], marker='.', ms=8, color='grey', lw=0)]\n",
    "    leg_ideal = plt.legend(custom_line_ideal, ['No sorting case - 4 bins'], loc=2)\n",
    "    ax1.add_artist(leg_ideal)\n",
    "    \n",
    "    # labels\n",
    "    plt.ylabel(y_label, size=16)\n",
    "    # Start y axis by 0\n",
    "    ax1.set_ylim(ymin=0)\n",
    "    ax1.set_xlim(xmin=2013, xmax=2102)\n",
    "\n",
    "\n",
    "    ax4 = ax1.twinx()\n",
    "    # Plot total demand\n",
    "    ax4.plot(time, demand, ls=':', ms=4, lw=2, c='k')\n",
    "    ax4.set_ylim(ymin=0)\n",
    "\n",
    "    plt.ylabel('Overall demand [Mt/y]', size=16)\n",
    "\n",
    "    # Legends\n",
    "    custom_lines = [Line2D([0], [0], ls=':', color='k', lw=2)]\n",
    "    ax4.legend(custom_lines, ['Demand'], loc=4)\n",
    "\n",
    "    plt.show()"
   ]
  },
  {
   "cell_type": "code",
   "execution_count": null,
   "metadata": {
    "scrolled": false
   },
   "outputs": [],
   "source": [
    "plot_impacts_full(SSP2_GLO_CC_full, SSP2_GLO_CC_none)"
   ]
  },
  {
   "cell_type": "code",
   "execution_count": null,
   "metadata": {},
   "outputs": [],
   "source": [
    "#Values impact\n",
    "values_fig4_imp = pd.concat([SSP2_GLO_CC_full.imp_all.sum(level=0), SSP2_GLO_CC_full.imp_id.sum(level=0),\n",
    "                            pd.DataFrame([SSP2_GLO_CC_none.imp_all.sum(level=0).loc(axis=0)[4]]).rename(index={4:'No sorting case - 4 bins'})],\n",
    "                            axis=0)\n",
    "values_fig4_imp"
   ]
  },
  {
   "cell_type": "code",
   "execution_count": null,
   "metadata": {},
   "outputs": [],
   "source": [
    "#Values demand\n",
    "values_fig4_demand = pd.DataFrame(SSP2_GLO_CC_full.inflow.sum(), columns=['Demand']).T\n",
    "values_fig4_demand"
   ]
  },
  {
   "cell_type": "markdown",
   "metadata": {},
   "source": [
    "# Figure 5 - Impact - Full dismantling + 100CR"
   ]
  },
  {
   "cell_type": "code",
   "execution_count": null,
   "metadata": {
    "scrolled": true
   },
   "outputs": [],
   "source": [
    "def plot_impacts_full_100CR(self, full_dismantling, no_dismantling):\n",
    "    time = list(self.f_tp_all.columns)\n",
    "    demand = self.f_d.sum()[time]\n",
    "\n",
    "    impacts_total = self.imp_all.sum(level=0)\n",
    "    impacts_ideal = self.imp_id.sum()\n",
    "    impacts_full = full_dismantling.imp_all.sum(level=0).loc(axis=0)[6]\n",
    "    impacts_none = no_dismantling.imp_all.sum(level=0).loc(axis=0)[4]\n",
    "\n",
    "    \n",
    "    colors = ['#a50026', '#d73027', '#f46d43', '#fdae61', '#abd9e9', '#74add1', '#4575b4','#313695']\n",
    "\n",
    "    fig, (ax1) = plt.subplots(1)\n",
    "    fig.set_figwidth(8)\n",
    "    fig.set_figheight(6)\n",
    "\n",
    "    #Plot bins\n",
    "    x = impacts_total.columns\n",
    "    for b in impacts_total.index:\n",
    "        y = impacts_total.loc[b].values\n",
    "        position = list(impacts_total.index).index(b)\n",
    "        ax1.plot(x, y, ms=4, lw=2, color=colors[position])\n",
    "\n",
    "    #Legend bins\n",
    "    legend_bins = plt.legend(list(impacts_total.index), title='Number of bins', loc=((1.15,0.2)))\n",
    "    plt.gca().add_artist(legend_bins)\n",
    "    ax1.xaxis.set_minor_locator(plt.MultipleLocator(5))\n",
    "    \n",
    "    # Plot ideal\n",
    "    y = impacts_ideal\n",
    "    ax1.plot(x, y, ms=6, lw=0, c='k', marker='d')\n",
    "    \n",
    "    # Legend - Ideal - 100%CR\n",
    "    ax2 = ax1\n",
    "    custom_line_ideal = [Line2D([0], [0], ms=4, lw=0, c='k', marker='d')]\n",
    "    leg_ideal_baseline = plt.legend(custom_line_ideal, ['Ideal sorting'], loc=3)\n",
    "    ax2.add_artist(leg_ideal_baseline);\n",
    "\n",
    "    # Plot ideal impact - None - 4 bins\n",
    "    ax1.plot(time, impacts_none, marker='.', lw=0, c='grey', ms=8)\n",
    "    ax1.set_ylim(ymin=0)\n",
    "    # Legends  - None - 4 bins\n",
    "    custom_line_ideal = [Line2D([0], [0], marker='.', ms=8, color='grey', lw=0)]\n",
    "    leg_ideal = plt.legend(custom_line_ideal, ['No sorting case - 4 bins'], loc=2)\n",
    "    ax1.add_artist(leg_ideal)  \n",
    "    \n",
    "    # Plot ideal impact - full - 6 bins\n",
    "    ax1.plot(time, impacts_full, marker='+', lw=0, c='grey', ms=8)\n",
    "    ax1.set_ylim(ymin=0)\n",
    "    \n",
    "    # Legends  - full - 6 bins\n",
    "    custom_line_ideal = [Line2D([0], [0], marker='+', lw=0, c='grey', ms=8)]\n",
    "    leg_ideal = plt.legend(custom_line_ideal, ['Full sorting case - 6 bins'], loc=(0.012,0.86))\n",
    "    ax1.add_artist(leg_ideal)     \n",
    "\n",
    "    # labels    \n",
    "    plt.xlabel('Year')\n",
    "    y_label = r'Climate change - [Mt $CO_2$ eq /y]' \n",
    "    plt.ylabel(y_label, size=16)\n",
    "    # Start y axis by 0\n",
    "    ax1.set_ylim(ymin=0)\n",
    "    ax1.set_xlim(xmin=2013, xmax=2102)\n",
    "\n",
    "\n",
    "    ax4 = ax1.twinx()\n",
    "    # Plot total demand\n",
    "    ax4.plot(time, demand, ls=':', ms=4, lw=2, c='k')\n",
    "    ax4.set_ylim(ymin=0)\n",
    "\n",
    "    plt.ylabel('Overall demand [Mt/y]', size=16)\n",
    "\n",
    "    # Legends\n",
    "    custom_lines = [Line2D([0], [0], ls=':', color='k', lw=2)]\n",
    "    ax4.legend(custom_lines, ['Demand'], loc=4)\n",
    "\n",
    "    plt.show()"
   ]
  },
  {
   "cell_type": "code",
   "execution_count": null,
   "metadata": {
    "scrolled": false
   },
   "outputs": [],
   "source": [
    "plot_impacts_full_100CR(SSP2_GLO_CC_full_100cr, SSP2_GLO_CC_full, SSP2_GLO_CC_none)"
   ]
  },
  {
   "cell_type": "code",
   "execution_count": null,
   "metadata": {},
   "outputs": [],
   "source": [
    "#Values impact\n",
    "values_fig5_imp = pd.concat([SSP2_GLO_CC_full_100cr.imp_all.sum(level=0), \n",
    "                             SSP2_GLO_CC_full_100cr.imp_id.sum(level=0).rename(index={'Ideal': 'Ideal 100% CR'}),\n",
    "                             pd.DataFrame([SSP2_GLO_CC_none.imp_all.sum(level=0).loc(axis=0)[4]]).rename(index={4:'No sorting case - 4 bins'}),\n",
    "                            pd.DataFrame([SSP2_GLO_CC_full.imp_all.sum(level=0).loc(axis=0)[6]]).rename(index={6:'Full sorting case - 6 bins'})], axis=0)\n",
    "values_fig5_imp"
   ]
  },
  {
   "cell_type": "code",
   "execution_count": null,
   "metadata": {},
   "outputs": [],
   "source": [
    "#Values demand\n",
    "values_fig5_demand = pd.DataFrame(SSP2_GLO_CC_full_100cr.inflow.sum(), columns=['Demand']).T\n",
    "values_fig5_demand"
   ]
  },
  {
   "cell_type": "markdown",
   "metadata": {},
   "source": [
    "# Figure 6 - Sankey (a)"
   ]
  },
  {
   "cell_type": "code",
   "execution_count": null,
   "metadata": {
    "scrolled": false
   },
   "outputs": [],
   "source": [
    "SSP2_GLO_CC_none.plot_sankey(4,2050)"
   ]
  },
  {
   "cell_type": "markdown",
   "metadata": {},
   "source": [
    "# Figure 6 - Sankey (b)"
   ]
  },
  {
   "cell_type": "code",
   "execution_count": null,
   "metadata": {},
   "outputs": [],
   "source": [
    "SSP2_GLO_CC_full.plot_sankey(4,2050)"
   ]
  },
  {
   "cell_type": "markdown",
   "metadata": {},
   "source": [
    "# Figure 6 - Sankey (c)"
   ]
  },
  {
   "cell_type": "code",
   "execution_count": null,
   "metadata": {
    "scrolled": false
   },
   "outputs": [],
   "source": [
    "SSP2_GLO_CC_full_100cr.plot_sankey(4,2050)"
   ]
  },
  {
   "cell_type": "markdown",
   "metadata": {},
   "source": [
    "# SI"
   ]
  },
  {
   "cell_type": "markdown",
   "metadata": {},
   "source": [
    "## SI-Figure 4 - Resource indicator"
   ]
  },
  {
   "cell_type": "code",
   "execution_count": null,
   "metadata": {
    "scrolled": false
   },
   "outputs": [],
   "source": [
    "SSP2_GLO_RE_none.plot_impacts()"
   ]
  },
  {
   "cell_type": "code",
   "execution_count": null,
   "metadata": {},
   "outputs": [],
   "source": [
    "#Values impact\n",
    "values_SI_fig4_imp = pd.concat([SSP2_GLO_RE_none.imp_all.sum(level=0), SSP2_GLO_RE_none.imp_id.sum(level=0)], axis=0)\n",
    "values_SI_fig4_imp"
   ]
  },
  {
   "cell_type": "code",
   "execution_count": null,
   "metadata": {
    "scrolled": true
   },
   "outputs": [],
   "source": [
    "#Values demand\n",
    "values_SI_fig4_demand = pd.DataFrame(SSP2_GLO_RE_none.inflow.sum(), columns=['Demand']).T\n",
    "values_SI_fig4_demand"
   ]
  },
  {
   "cell_type": "markdown",
   "metadata": {},
   "source": [
    "## SI - Figure 5 - Cobenefits mid-point"
   ]
  },
  {
   "cell_type": "markdown",
   "metadata": {},
   "source": [
    "### ssp2-nd - year 2050"
   ]
  },
  {
   "cell_type": "code",
   "execution_count": null,
   "metadata": {
    "scrolled": false
   },
   "outputs": [],
   "source": [
    "#Selection of the case and the year\n",
    "year = 2050\n",
    "case = SSP2_GLO_CC_none\n",
    "\n",
    "#Impacts for recycling\n",
    "imp_recycling = case.f_tr.sum()[year] * impact_mid['Recycling'] * 1000000000 \n",
    "\n",
    "#Impacts for sorting\n",
    "imp_sorting = case.f_tr.sum()[year] * impact_mid['Sorting'] * 1000000000 \n",
    "\n",
    "# Impacts for landfill according to different number of bins\n",
    "scrap_bins = pd.DataFrame(case.f_m_all.loc(axis=0)[:,'Scrap'].sum(level=0)[year]).rename(columns={2050:'Scrap'})\n",
    "impacts_scrap = pd.DataFrame(impact_mid['Scrap'])\n",
    "imp_scrap = scrap_bins.dot(impacts_scrap.T) * 1000000000 \n",
    "\n",
    "# Impacts for production of primary material according to different number of bins\n",
    "prod_bins = pd.DataFrame(case.f_tp_all[year]).unstack()[year]\n",
    "impacts_prod = impact_mid[prod_bins.columns]\n",
    "imp_prod = prod_bins.dot(impacts_prod.T) * 1000000000 \n",
    "\n",
    "#Total\n",
    "imp_total = imp_recycling + imp_sorting + imp_scrap + imp_prod\n",
    "imp_total_rel = imp_total.div(imp_total.loc(axis=0)[1], axis=1) * 100\n",
    "imp_total_rel = imp_total_rel.loc(axis=1)['fossil depletion - FDP','freshwater eutrophication - FEP','human toxicity - HTPinf',\n",
    "                          'ionising radiation - IRP_HE','marine eutrophication - MEP','water depletion - WDP',\n",
    "                          'ozone depletion - ODPinf', 'particulate matter formation - PMFP', \n",
    "                          'terrestrial acidification - TAP500',]\n",
    "\n",
    "# Plot\n",
    "fig, (ax1) = plt.subplots(1)\n",
    "fig.set_figwidth(8)\n",
    "fig.set_figheight(6)\n",
    "\n",
    "x = imp_total_rel.index\n",
    "for i in imp_total_rel.columns:\n",
    "    y = imp_total_rel.loc(axis=1)[i].values\n",
    "    ax1.plot(x, y)\n",
    "\n",
    "#Legend \n",
    "legend = plt.legend(list(imp_total_rel.columns), title='Mid point - Indicators')\n",
    "plt.gca().add_artist(legend)\n",
    "\n",
    "\n",
    "# labels    \n",
    "plt.xlabel('Number of bins')\n",
    "plt.ylabel('%')\n",
    "# Start y axis by 0\n",
    "ax1.set_ylim(ymin=0)\n",
    "\n",
    "plt.grid(ls='--')\n",
    "\n",
    "plt.show()\n",
    "\n",
    "#Print values of the figure\n",
    "imp_total_rel"
   ]
  },
  {
   "cell_type": "markdown",
   "metadata": {},
   "source": [
    "## SI-Figure 6 - Sensitivity analysis - SSP"
   ]
  },
  {
   "cell_type": "markdown",
   "metadata": {},
   "source": [
    "### SI-Figure 6 (a) - SSP1-nd"
   ]
  },
  {
   "cell_type": "code",
   "execution_count": null,
   "metadata": {
    "scrolled": true
   },
   "outputs": [],
   "source": [
    "SSP1_GLO_CC_none.plot_impacts()"
   ]
  },
  {
   "cell_type": "code",
   "execution_count": null,
   "metadata": {
    "scrolled": true
   },
   "outputs": [],
   "source": [
    "#Values impact\n",
    "values_SI_fig5a_imp = pd.concat([SSP1_GLO_CC_none.imp_all.sum(level=0), SSP1_GLO_CC_none.imp_id.sum(level=0)], axis=0)\n",
    "values_SI_fig5a_imp"
   ]
  },
  {
   "cell_type": "code",
   "execution_count": null,
   "metadata": {
    "scrolled": true
   },
   "outputs": [],
   "source": [
    "#Values demand\n",
    "values_SI_fig5a_demand = pd.DataFrame(SSP1_GLO_CC_none.inflow.sum(), columns=['Demand']).T\n",
    "values_SI_fig5a_demand"
   ]
  },
  {
   "cell_type": "markdown",
   "metadata": {},
   "source": [
    "### SI-Figure 6 (b) - SSP2-nd"
   ]
  },
  {
   "cell_type": "code",
   "execution_count": null,
   "metadata": {
    "scrolled": true
   },
   "outputs": [],
   "source": [
    "SSP2_GLO_CC_none.plot_impacts()"
   ]
  },
  {
   "cell_type": "code",
   "execution_count": null,
   "metadata": {
    "scrolled": true
   },
   "outputs": [],
   "source": [
    "#Values impact\n",
    "values_SI_fig5b_imp = pd.concat([SSP2_GLO_CC_none.imp_all.sum(level=0), SSP2_GLO_CC_none.imp_id.sum(level=0)], axis=0)\n",
    "values_SI_fig5b_imp"
   ]
  },
  {
   "cell_type": "code",
   "execution_count": null,
   "metadata": {
    "scrolled": true
   },
   "outputs": [],
   "source": [
    "#Values demand\n",
    "values_SI_fig5b_demand = pd.DataFrame(SSP2_GLO_CC_none.inflow.sum(), columns=['Demand']).T\n",
    "values_SI_fig5b_demand"
   ]
  },
  {
   "cell_type": "markdown",
   "metadata": {},
   "source": [
    "### SI-Figure 6 (c) - SSP3-nd"
   ]
  },
  {
   "cell_type": "code",
   "execution_count": null,
   "metadata": {
    "scrolled": false
   },
   "outputs": [],
   "source": [
    "SSP3_GLO_CC_none.plot_impacts()"
   ]
  },
  {
   "cell_type": "code",
   "execution_count": null,
   "metadata": {
    "scrolled": true
   },
   "outputs": [],
   "source": [
    "#Values impact\n",
    "values_SI_fig5c_imp = pd.concat([SSP3_GLO_CC_none.imp_all.sum(level=0), SSP3_GLO_CC_none.imp_id.sum(level=0)], axis=0)\n",
    "values_SI_fig5c_imp"
   ]
  },
  {
   "cell_type": "code",
   "execution_count": null,
   "metadata": {},
   "outputs": [],
   "source": [
    "#Values demand\n",
    "values_SI_fig5c_demand = pd.DataFrame(SSP3_GLO_CC_none.inflow.sum(), columns=['Demand']).T\n",
    "values_SI_fig5c_demand"
   ]
  },
  {
   "cell_type": "markdown",
   "metadata": {},
   "source": [
    "## SI-Figure 6 (d) - SSP4-nd"
   ]
  },
  {
   "cell_type": "code",
   "execution_count": null,
   "metadata": {
    "scrolled": false
   },
   "outputs": [],
   "source": [
    "SSP4_GLO_CC_none.plot_impacts()"
   ]
  },
  {
   "cell_type": "code",
   "execution_count": null,
   "metadata": {
    "scrolled": true
   },
   "outputs": [],
   "source": [
    "#Values impact\n",
    "values_SI_fig5d_imp = pd.concat([SSP4_GLO_CC_none.imp_all.sum(level=0), SSP4_GLO_CC_none.imp_id.sum(level=0)], axis=0)\n",
    "values_SI_fig5d_imp"
   ]
  },
  {
   "cell_type": "code",
   "execution_count": null,
   "metadata": {},
   "outputs": [],
   "source": [
    "#Values demand\n",
    "values_SI_fig5d_demand = pd.DataFrame(SSP4_GLO_CC_none.inflow.sum(), columns=['Demand']).T\n",
    "values_SI_fig5d_demand"
   ]
  },
  {
   "cell_type": "markdown",
   "metadata": {},
   "source": [
    "## SI-Figure 6 (e) - SSP5-nd"
   ]
  },
  {
   "cell_type": "code",
   "execution_count": null,
   "metadata": {
    "scrolled": false
   },
   "outputs": [],
   "source": [
    "SSP5_GLO_CC_none.plot_impacts()"
   ]
  },
  {
   "cell_type": "code",
   "execution_count": null,
   "metadata": {
    "scrolled": true
   },
   "outputs": [],
   "source": [
    "#Values impact\n",
    "values_SI_fig5e_imp = pd.concat([SSP5_GLO_CC_none.imp_all.sum(level=0), SSP5_GLO_CC_none.imp_id.sum(level=0)], axis=0)\n",
    "values_SI_fig5e_imp"
   ]
  },
  {
   "cell_type": "code",
   "execution_count": null,
   "metadata": {},
   "outputs": [],
   "source": [
    "# Values demand\n",
    "values_SI_fig5e_demand = pd.DataFrame(SSP5_GLO_CC_none.inflow.sum(), columns=['Demand']).T\n",
    "values_SI_fig5e_demand"
   ]
  },
  {
   "cell_type": "markdown",
   "metadata": {},
   "source": [
    "## SI - Figure 7 (a) - Primary consumption - SSP2-fd"
   ]
  },
  {
   "cell_type": "code",
   "execution_count": null,
   "metadata": {},
   "outputs": [],
   "source": [
    "#Primary consumption\n",
    "SSP2_GLO_CC_full.plot_primary_demand()"
   ]
  },
  {
   "cell_type": "code",
   "execution_count": null,
   "metadata": {},
   "outputs": [],
   "source": [
    "#Values primary consumption\n",
    "values_SI_fig3a_prod = pd.concat([SSP2_GLO_CC_full.f_tp_all.sum(level=0), pd.DataFrame(SSP2_GLO_CC_full.inflow.sum(), columns=['Demand']).T, pd.DataFrame(SSP2_GLO_CC_full.f_tp_id.sum(), columns=['Ideal sorting']).T], axis=0)\n",
    "values_SI_fig3a_prod"
   ]
  },
  {
   "cell_type": "markdown",
   "metadata": {},
   "source": [
    "## SI - Figure 7 (b) - Waste generation - SSP2-fd"
   ]
  },
  {
   "cell_type": "code",
   "execution_count": null,
   "metadata": {},
   "outputs": [],
   "source": [
    "SSP2_GLO_CC_full.plot_scrap_gen()"
   ]
  },
  {
   "cell_type": "code",
   "execution_count": null,
   "metadata": {},
   "outputs": [],
   "source": [
    "#Values waste generation\n",
    "values_SI_fig3b_prod = pd.concat([SSP2_GLO_CC_full.f_m_all.loc(axis=0)[:, 'Scrap', :].sum(level=0), \n",
    "                                pd.DataFrame(SSP2_GLO_CC_full.f_scrap_id.sum(), columns=['Ideal']).T,\n",
    "                               pd.DataFrame(SSP2_GLO_CC_full.f_tr.sum(), columns=['Flow to recycle']).T], axis=0)\n",
    "values_SI_fig3b_prod"
   ]
  },
  {
   "cell_type": "markdown",
   "metadata": {},
   "source": [
    "## SI - Figure 8 (a) - Primary consumption - SSP2-fd-100CR"
   ]
  },
  {
   "cell_type": "code",
   "execution_count": null,
   "metadata": {},
   "outputs": [],
   "source": [
    "#Primary consumption\n",
    "SSP2_GLO_CC_full_100cr.plot_primary_demand()"
   ]
  },
  {
   "cell_type": "code",
   "execution_count": null,
   "metadata": {},
   "outputs": [],
   "source": [
    "#Values primary consumption\n",
    "values_SI_fig3b_prod = pd.concat([SSP2_GLO_CC_full_100cr.f_tp_all.sum(level=0), pd.DataFrame(SSP2_GLO_CC_full_100cr.inflow.sum(), columns=['Demand']).T, pd.DataFrame(SSP2_GLO_CC_full_100cr.f_tp_id.sum(), columns=['Ideal sorting']).T], axis=0)\n",
    "values_SI_fig3b_prod"
   ]
  },
  {
   "cell_type": "markdown",
   "metadata": {},
   "source": [
    "## SI - Figure 8 (b) - Waste generation  - SSP2-fd-100CR"
   ]
  },
  {
   "cell_type": "code",
   "execution_count": null,
   "metadata": {},
   "outputs": [],
   "source": [
    "SSP2_GLO_CC_full_100cr.plot_scrap_gen()"
   ]
  },
  {
   "cell_type": "code",
   "execution_count": null,
   "metadata": {},
   "outputs": [],
   "source": [
    "#Values waste generation\n",
    "values_fig_SI4_b_scrap = pd.concat([SSP2_GLO_CC_full_100cr.f_m_all.loc(axis=0)[:, 'Scrap', :].sum(level=0), \n",
    "                                pd.DataFrame(SSP2_GLO_CC_full_100cr.f_scrap_id.sum(), columns=['Ideal']).T,\n",
    "                               pd.DataFrame(SSP2_GLO_CC_full_100cr.f_tr.sum(), columns=['Flow to recycle']).T], axis=0)\n",
    "values_fig_SI4_b_scrap"
   ]
  },
  {
   "cell_type": "markdown",
   "metadata": {},
   "source": [
    "## SI - Figure 9 - Relative impacts"
   ]
  },
  {
   "cell_type": "code",
   "execution_count": null,
   "metadata": {},
   "outputs": [],
   "source": [
    "#Relative impacts ssp2-nd\n",
    "SSP2_nd_imp_rel = SSP2_GLO_CC_none.imp_all / SSP2_GLO_CC_none.f_d.sum()\n",
    "SSP2_nd_imp_rel_tot = SSP2_GLO_CC_none.imp_all.sum(level=0)  / SSP2_GLO_CC_none.f_d.sum()\n",
    "SSP2_nd_imp_rel_tot = pd.concat([SSP2_nd_imp_rel_tot], keys=['Total']).swaplevel(i=1, j=0)\n",
    "SSP2_nd_imp_rel = pd.concat([SSP2_nd_imp_rel, SSP2_nd_imp_rel_tot]).sort_index()\n",
    "\n",
    "#Relative impacts ssp2-fd\n",
    "SSP2_fd_imp_rel = SSP2_GLO_CC_full.imp_all / SSP2_GLO_CC_full.f_d.sum()\n",
    "SSP2_fd_imp_rel_tot = SSP2_GLO_CC_full.imp_all.sum(level=0)  / SSP2_GLO_CC_full.f_d.sum()\n",
    "SSP2_fd_imp_rel_tot = pd.concat([SSP2_fd_imp_rel_tot], keys=['Total']).swaplevel(i=1, j=0)\n",
    "SSP2_fd_imp_rel = pd.concat([SSP2_fd_imp_rel, SSP2_fd_imp_rel_tot]).sort_index()\n",
    "\n",
    "#Relative impacts ssp2-fd-100cr\n",
    "SSP2_fd_100cr_imp_rel = SSP2_GLO_CC_full_100cr.imp_all / SSP2_GLO_CC_full_100cr.f_d.sum()\n",
    "SSP2_fd_100cr_imp_rel_tot = SSP2_GLO_CC_full_100cr.imp_all.sum(level=0)  / SSP2_GLO_CC_full_100cr.f_d.sum()\n",
    "SSP2_fd_100cr_imp_rel_tot = pd.concat([SSP2_fd_100cr_imp_rel_tot], keys=['Total']).swaplevel(i=1, j=0)\n",
    "SSP2_fd_100cr_imp_rel = pd.concat([SSP2_fd_100cr_imp_rel, SSP2_fd_100cr_imp_rel_tot]).sort_index()\n",
    "\n",
    "#Concat all raltive impacts into 1 df\n",
    "imp_rel = pd.concat([SSP2_nd_imp_rel, SSP2_fd_imp_rel,SSP2_fd_100cr_imp_rel], keys=['SSP2-nd','SSP2-fd','SSP2-fd_100cr'])"
   ]
  },
  {
   "cell_type": "code",
   "execution_count": null,
   "metadata": {},
   "outputs": [],
   "source": [
    "imp_rel"
   ]
  },
  {
   "cell_type": "code",
   "execution_count": null,
   "metadata": {},
   "outputs": [],
   "source": []
  }
 ],
 "metadata": {
  "hide_input": false,
  "kernelspec": {
   "display_name": "Python 3",
   "language": "python",
   "name": "python3"
  },
  "language_info": {
   "codemirror_mode": {
    "name": "ipython",
    "version": 3
   },
   "file_extension": ".py",
   "mimetype": "text/x-python",
   "name": "python",
   "nbconvert_exporter": "python",
   "pygments_lexer": "ipython3",
   "version": "3.6.5"
  }
 },
 "nbformat": 4,
 "nbformat_minor": 4
}
